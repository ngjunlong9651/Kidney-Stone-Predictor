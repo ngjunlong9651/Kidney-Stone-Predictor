{
 "cells": [
  {
   "cell_type": "code",
   "execution_count": null,
   "id": "a6b51e97",
   "metadata": {},
   "outputs": [
    {
     "name": "stdout",
     "output_type": "stream",
     "text": [
      " * Serving Flask app \"__main__\" (lazy loading)\n",
      " * Environment: production\n",
      "\u001b[31m   WARNING: This is a development server. Do not use it in a production deployment.\u001b[0m\n",
      "\u001b[2m   Use a production WSGI server instead.\u001b[0m\n",
      " * Debug mode: off\n"
     ]
    },
    {
     "name": "stderr",
     "output_type": "stream",
     "text": [
      " * Running on http://127.0.0.1:5000/ (Press CTRL+C to quit)\n",
      "127.0.0.1 - - [01/Aug/2023 15:50:02] \"GET / HTTP/1.1\" 200 -\n",
      "127.0.0.1 - - [01/Aug/2023 15:50:29] \"POST / HTTP/1.1\" 200 -\n"
     ]
    }
   ],
   "source": [
    "from flask import Flask, render_template, request\n",
    "\n",
    "app = Flask(__name__)\n",
    "\n",
    "@app.route(\"/\", methods=[\"GET\",\"POST\"])\n",
    "def index():\n",
    "    if request.method == \"POST\":\n",
    "        gravity = float(request.form.get(\"gravity\"))\n",
    "        ph = float(request.form.get(\"ph\"))\n",
    "        osmo = float(request.form.get(\"osmo\"))\n",
    "        cond = float(request.form.get(\"cond\"))\n",
    "        urea = float(request.form.get(\"urea\"))\n",
    "        calc = float(request.form.get(\"calc\"))\n",
    "        return(render_template(\"index.html\", result=-0.04191465 + (gravity * -3.94579654e-02) + (ph * -3.94579654e-02) + (osmo * 3.05883681e-04) + (cond * -8.53476004e-02) + (urea * 1.12604054e-03) + (calc * 7.20512124e-01)))\n",
    "    else:\n",
    "        return(render_template(\"index.html\", result=\"waiting\"))\n",
    "\n",
    "if __name__ == \"__main__\" :\n",
    "    app.run()\n",
    "\n",
    "\n"
   ]
  },
  {
   "cell_type": "code",
   "execution_count": null,
   "id": "2be2dfa8",
   "metadata": {},
   "outputs": [],
   "source": []
  }
 ],
 "metadata": {
  "kernelspec": {
   "display_name": "Python 3 (ipykernel)",
   "language": "python",
   "name": "python3"
  },
  "language_info": {
   "codemirror_mode": {
    "name": "ipython",
    "version": 3
   },
   "file_extension": ".py",
   "mimetype": "text/x-python",
   "name": "python",
   "nbconvert_exporter": "python",
   "pygments_lexer": "ipython3",
   "version": "3.9.12"
  }
 },
 "nbformat": 4,
 "nbformat_minor": 5
}
